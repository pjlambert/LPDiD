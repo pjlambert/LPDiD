{
 "cells": [
  {
   "cell_type": "markdown",
   "metadata": {},
   "source": [
    "# Applying LPDiD and LPDiDPois to Synthetic Datasets\n",
    "\n",
    "This notebook demonstrates the application of both `LPDiD` and `LPDiDPois` functions to our synthetic datasets. We'll apply:\n",
    "- `LPDiD` with `swap_pre_diff=False` (standard OLS approach)\n",
    "- `LPDiDPois` with `swap_pre_diff=True` (recommended for Poisson to avoid negative values)\n",
    "\n",
    "We'll visualize results using event plots with a consistent window of -5 to 5 periods around treatment."
   ]
  },
  {
   "cell_type": "code",
   "execution_count": 20,
   "metadata": {},
   "outputs": [
    {
     "name": "stdout",
     "output_type": "stream",
     "text": [
      "Python version: 3.10.16 (main, Dec 11 2024, 10:22:29) [Clang 14.0.6 ]\n"
     ]
    }
   ],
   "source": [
    "# Which python version is this?\n",
    "import sys\n",
    "if sys.version_info < (3, 6):\n",
    "    print(\"This script requires Python 3.6 or higher.\")\n",
    "    sys.exit(1)\n",
    "\n",
    "# Print version\n",
    "print(\"Python version:\", sys.version)"
   ]
  },
  {
   "cell_type": "code",
   "execution_count": 21,
   "metadata": {},
   "outputs": [],
   "source": [
    "# Import necessary packages\n",
    "import numpy as np\n",
    "import pandas as pd\n",
    "import matplotlib.pyplot as plt\n",
    "import seaborn as sns\n",
    "import os\n",
    "import sys\n",
    "\n",
    "# Add the parent directory to path to import LPDiD package\n",
    "sys.path.append('..')\n",
    "from LPDiD.lpdid import LPDiD, LPDiDPois\n",
    "\n",
    "# Set plotting style\n",
    "plt.style.use('seaborn-v0_8-whitegrid')\n",
    "plt.rcParams['figure.figsize'] = [12, 6]\n",
    "plt.rcParams['figure.dpi'] = 100"
   ]
  },
  {
   "cell_type": "markdown",
   "metadata": {},
   "source": [
    "## Loading the Synthetic Datasets\n",
    "\n",
    "First, let's load the synthetic datasets we generated earlier. These datasets contain outcomes from treatment effects of varying magnitudes."
   ]
  },
  {
   "cell_type": "code",
   "execution_count": 22,
   "metadata": {},
   "outputs": [
    {
     "name": "stdout",
     "output_type": "stream",
     "text": [
      "Loaded 7 synthetic datasets:\n",
      "  - high_treatment_effect: 100000 observations, 5000 individuals, 20 time periods\n",
      "  - similar_groups: 100000 observations, 5000 individuals, 20 time periods\n",
      "  - small_sample: 20000 observations, 1000 individuals, 20 time periods\n",
      "  - baseline: 100000 observations, 5000 individuals, 20 time periods\n",
      "  - early_treatment: 100000 observations, 5000 individuals, 20 time periods\n",
      "  - negative_effect: 100000 observations, 5000 individuals, 20 time periods\n",
      "  - long_horizon: 150000 observations, 5000 individuals, 30 time periods\n"
     ]
    }
   ],
   "source": [
    "# Define the path to synthetic datasets\n",
    "data_dir = './synth_data'\n",
    "\n",
    "# List available datasets\n",
    "datasets = {}\n",
    "for file in os.listdir(data_dir):\n",
    "    if file.endswith('.csv') and file.startswith('synth_data_'):\n",
    "        name = file.replace('synth_data_', '').replace('.csv', '')\n",
    "        datasets[name] = pd.read_csv(os.path.join(data_dir, file))\n",
    "        \n",
    "print(f\"Loaded {len(datasets)} synthetic datasets:\")\n",
    "for name, data in datasets.items():\n",
    "    print(f\"  - {name}: {data.shape[0]} observations, {data['i'].nunique()} individuals, {data['t'].nunique()} time periods\")"
   ]
  },
  {
   "cell_type": "markdown",
   "metadata": {},
   "source": [
    "## Exploring a Dataset\n",
    "\n",
    "Let's explore the structure of one dataset to understand what we're working with."
   ]
  },
  {
   "cell_type": "code",
   "execution_count": 23,
   "metadata": {},
   "outputs": [
    {
     "name": "stdout",
     "output_type": "stream",
     "text": [
      "First few rows:\n"
     ]
    },
    {
     "data": {
      "application/vnd.microsoft.datawrangler.viewer.v0+json": {
       "columns": [
        {
         "name": "index",
         "rawType": "int64",
         "type": "integer"
        },
        {
         "name": "i",
         "rawType": "int64",
         "type": "integer"
        },
        {
         "name": "t",
         "rawType": "int64",
         "type": "integer"
        },
        {
         "name": "group",
         "rawType": "int64",
         "type": "integer"
        },
        {
         "name": "Y",
         "rawType": "int64",
         "type": "integer"
        },
        {
         "name": "Y_counterfactual",
         "rawType": "int64",
         "type": "integer"
        },
        {
         "name": "treated",
         "rawType": "int64",
         "type": "integer"
        }
       ],
       "ref": "062984a6-6a6e-4616-848d-5dee4e565589",
       "rows": [
        [
         "0",
         "0",
         "1",
         "1",
         "0",
         "0",
         "0"
        ],
        [
         "1",
         "0",
         "2",
         "1",
         "0",
         "0",
         "0"
        ],
        [
         "2",
         "0",
         "3",
         "1",
         "0",
         "1",
         "0"
        ],
        [
         "3",
         "0",
         "4",
         "1",
         "0",
         "1",
         "0"
        ],
        [
         "4",
         "0",
         "5",
         "1",
         "0",
         "1",
         "0"
        ]
       ],
       "shape": {
        "columns": 6,
        "rows": 5
       }
      },
      "text/html": [
       "<div>\n",
       "<style scoped>\n",
       "    .dataframe tbody tr th:only-of-type {\n",
       "        vertical-align: middle;\n",
       "    }\n",
       "\n",
       "    .dataframe tbody tr th {\n",
       "        vertical-align: top;\n",
       "    }\n",
       "\n",
       "    .dataframe thead th {\n",
       "        text-align: right;\n",
       "    }\n",
       "</style>\n",
       "<table border=\"1\" class=\"dataframe\">\n",
       "  <thead>\n",
       "    <tr style=\"text-align: right;\">\n",
       "      <th></th>\n",
       "      <th>i</th>\n",
       "      <th>t</th>\n",
       "      <th>group</th>\n",
       "      <th>Y</th>\n",
       "      <th>Y_counterfactual</th>\n",
       "      <th>treated</th>\n",
       "    </tr>\n",
       "  </thead>\n",
       "  <tbody>\n",
       "    <tr>\n",
       "      <th>0</th>\n",
       "      <td>0</td>\n",
       "      <td>1</td>\n",
       "      <td>1</td>\n",
       "      <td>0</td>\n",
       "      <td>0</td>\n",
       "      <td>0</td>\n",
       "    </tr>\n",
       "    <tr>\n",
       "      <th>1</th>\n",
       "      <td>0</td>\n",
       "      <td>2</td>\n",
       "      <td>1</td>\n",
       "      <td>0</td>\n",
       "      <td>0</td>\n",
       "      <td>0</td>\n",
       "    </tr>\n",
       "    <tr>\n",
       "      <th>2</th>\n",
       "      <td>0</td>\n",
       "      <td>3</td>\n",
       "      <td>1</td>\n",
       "      <td>0</td>\n",
       "      <td>1</td>\n",
       "      <td>0</td>\n",
       "    </tr>\n",
       "    <tr>\n",
       "      <th>3</th>\n",
       "      <td>0</td>\n",
       "      <td>4</td>\n",
       "      <td>1</td>\n",
       "      <td>0</td>\n",
       "      <td>1</td>\n",
       "      <td>0</td>\n",
       "    </tr>\n",
       "    <tr>\n",
       "      <th>4</th>\n",
       "      <td>0</td>\n",
       "      <td>5</td>\n",
       "      <td>1</td>\n",
       "      <td>0</td>\n",
       "      <td>1</td>\n",
       "      <td>0</td>\n",
       "    </tr>\n",
       "  </tbody>\n",
       "</table>\n",
       "</div>"
      ],
      "text/plain": [
       "   i  t  group  Y  Y_counterfactual  treated\n",
       "0  0  1      1  0                 0        0\n",
       "1  0  2      1  0                 0        0\n",
       "2  0  3      1  0                 1        0\n",
       "3  0  4      1  0                 1        0\n",
       "4  0  5      1  0                 1        0"
      ]
     },
     "execution_count": 23,
     "metadata": {},
     "output_type": "execute_result"
    }
   ],
   "source": [
    "# Look at the baseline dataset\n",
    "baseline_data = datasets['baseline']\n",
    "print(\"First few rows:\")\n",
    "baseline_data.head()"
   ]
  },
  {
   "cell_type": "code",
   "execution_count": 24,
   "metadata": {},
   "outputs": [
    {
     "data": {
      "application/vnd.microsoft.datawrangler.viewer.v0+json": {
       "columns": [
        {
         "name": "index",
         "rawType": "object",
         "type": "string"
        },
        {
         "name": "i",
         "rawType": "float64",
         "type": "float"
        },
        {
         "name": "t",
         "rawType": "float64",
         "type": "float"
        },
        {
         "name": "group",
         "rawType": "float64",
         "type": "float"
        },
        {
         "name": "Y",
         "rawType": "float64",
         "type": "float"
        },
        {
         "name": "Y_counterfactual",
         "rawType": "float64",
         "type": "float"
        },
        {
         "name": "treated",
         "rawType": "float64",
         "type": "float"
        }
       ],
       "ref": "e509ee1c-5b1d-410c-a04a-eb17cbce207a",
       "rows": [
        [
         "count",
         "100000.0",
         "100000.0",
         "100000.0",
         "100000.0",
         "100000.0",
         "100000.0"
        ],
        [
         "mean",
         "2499.5",
         "10.5",
         "1.5",
         "0.59172",
         "0.57724",
         "0.25"
        ],
        [
         "std",
         "1443.3828610388982",
         "5.766310128958122",
         "0.5000025000187501",
         "0.49151791167617376",
         "0.49400042789866044",
         "0.4330148669719669"
        ],
        [
         "min",
         "0.0",
         "1.0",
         "1.0",
         "0.0",
         "0.0",
         "0.0"
        ],
        [
         "25%",
         "1249.75",
         "5.75",
         "1.0",
         "0.0",
         "0.0",
         "0.0"
        ],
        [
         "50%",
         "2499.5",
         "10.5",
         "1.5",
         "1.0",
         "1.0",
         "0.0"
        ],
        [
         "75%",
         "3749.25",
         "15.25",
         "2.0",
         "1.0",
         "1.0",
         "0.25"
        ],
        [
         "max",
         "4999.0",
         "20.0",
         "2.0",
         "1.0",
         "1.0",
         "1.0"
        ]
       ],
       "shape": {
        "columns": 6,
        "rows": 8
       }
      },
      "text/html": [
       "<div>\n",
       "<style scoped>\n",
       "    .dataframe tbody tr th:only-of-type {\n",
       "        vertical-align: middle;\n",
       "    }\n",
       "\n",
       "    .dataframe tbody tr th {\n",
       "        vertical-align: top;\n",
       "    }\n",
       "\n",
       "    .dataframe thead th {\n",
       "        text-align: right;\n",
       "    }\n",
       "</style>\n",
       "<table border=\"1\" class=\"dataframe\">\n",
       "  <thead>\n",
       "    <tr style=\"text-align: right;\">\n",
       "      <th></th>\n",
       "      <th>i</th>\n",
       "      <th>t</th>\n",
       "      <th>group</th>\n",
       "      <th>Y</th>\n",
       "      <th>Y_counterfactual</th>\n",
       "      <th>treated</th>\n",
       "    </tr>\n",
       "  </thead>\n",
       "  <tbody>\n",
       "    <tr>\n",
       "      <th>count</th>\n",
       "      <td>100000.000000</td>\n",
       "      <td>100000.00000</td>\n",
       "      <td>100000.000000</td>\n",
       "      <td>100000.000000</td>\n",
       "      <td>100000.00000</td>\n",
       "      <td>100000.000000</td>\n",
       "    </tr>\n",
       "    <tr>\n",
       "      <th>mean</th>\n",
       "      <td>2499.500000</td>\n",
       "      <td>10.50000</td>\n",
       "      <td>1.500000</td>\n",
       "      <td>0.591720</td>\n",
       "      <td>0.57724</td>\n",
       "      <td>0.250000</td>\n",
       "    </tr>\n",
       "    <tr>\n",
       "      <th>std</th>\n",
       "      <td>1443.382861</td>\n",
       "      <td>5.76631</td>\n",
       "      <td>0.500003</td>\n",
       "      <td>0.491518</td>\n",
       "      <td>0.49400</td>\n",
       "      <td>0.433015</td>\n",
       "    </tr>\n",
       "    <tr>\n",
       "      <th>min</th>\n",
       "      <td>0.000000</td>\n",
       "      <td>1.00000</td>\n",
       "      <td>1.000000</td>\n",
       "      <td>0.000000</td>\n",
       "      <td>0.00000</td>\n",
       "      <td>0.000000</td>\n",
       "    </tr>\n",
       "    <tr>\n",
       "      <th>25%</th>\n",
       "      <td>1249.750000</td>\n",
       "      <td>5.75000</td>\n",
       "      <td>1.000000</td>\n",
       "      <td>0.000000</td>\n",
       "      <td>0.00000</td>\n",
       "      <td>0.000000</td>\n",
       "    </tr>\n",
       "    <tr>\n",
       "      <th>50%</th>\n",
       "      <td>2499.500000</td>\n",
       "      <td>10.50000</td>\n",
       "      <td>1.500000</td>\n",
       "      <td>1.000000</td>\n",
       "      <td>1.00000</td>\n",
       "      <td>0.000000</td>\n",
       "    </tr>\n",
       "    <tr>\n",
       "      <th>75%</th>\n",
       "      <td>3749.250000</td>\n",
       "      <td>15.25000</td>\n",
       "      <td>2.000000</td>\n",
       "      <td>1.000000</td>\n",
       "      <td>1.00000</td>\n",
       "      <td>0.250000</td>\n",
       "    </tr>\n",
       "    <tr>\n",
       "      <th>max</th>\n",
       "      <td>4999.000000</td>\n",
       "      <td>20.00000</td>\n",
       "      <td>2.000000</td>\n",
       "      <td>1.000000</td>\n",
       "      <td>1.00000</td>\n",
       "      <td>1.000000</td>\n",
       "    </tr>\n",
       "  </tbody>\n",
       "</table>\n",
       "</div>"
      ],
      "text/plain": [
       "                   i             t          group              Y  \\\n",
       "count  100000.000000  100000.00000  100000.000000  100000.000000   \n",
       "mean     2499.500000      10.50000       1.500000       0.591720   \n",
       "std      1443.382861       5.76631       0.500003       0.491518   \n",
       "min         0.000000       1.00000       1.000000       0.000000   \n",
       "25%      1249.750000       5.75000       1.000000       0.000000   \n",
       "50%      2499.500000      10.50000       1.500000       1.000000   \n",
       "75%      3749.250000      15.25000       2.000000       1.000000   \n",
       "max      4999.000000      20.00000       2.000000       1.000000   \n",
       "\n",
       "       Y_counterfactual        treated  \n",
       "count      100000.00000  100000.000000  \n",
       "mean            0.57724       0.250000  \n",
       "std             0.49400       0.433015  \n",
       "min             0.00000       0.000000  \n",
       "25%             0.00000       0.000000  \n",
       "50%             1.00000       0.000000  \n",
       "75%             1.00000       0.250000  \n",
       "max             1.00000       1.000000  "
      ]
     },
     "execution_count": 24,
     "metadata": {},
     "output_type": "execute_result"
    }
   ],
   "source": [
    "# Summary statistics\n",
    "baseline_data.describe()"
   ]
  },
  {
   "cell_type": "code",
   "execution_count": 25,
   "metadata": {},
   "outputs": [
    {
     "data": {
      "image/png": "[encoded data removed]",
      "text/plain": [
       "<Figure size 1000x400 with 1 Axes>"
      ]
     },
     "metadata": {},
     "output_type": "display_data"
    }
   ],
   "source": [
    "# Check for treatment timing\n",
    "treatment_by_time = baseline_data.groupby('t')['treated'].mean()\n",
    "plt.figure(figsize=(10, 4))\n",
    "plt.plot(treatment_by_time.index, treatment_by_time.values)\n",
    "plt.grid(True)\n",
    "plt.xlabel('Time')\n",
    "plt.ylabel('Proportion Treated')\n",
    "plt.title('Treatment Proportion Over Time (Group 1)')\n",
    "plt.show()"
   ]
  },
  {
   "cell_type": "code",
   "execution_count": 26,
   "metadata": {},
   "outputs": [
    {
     "data": {
      "image/png": "[encoded data removed]",
      "text/plain": [
       "<Figure size 1000x400 with 1 Axes>"
      ]
     },
     "metadata": {},
     "output_type": "display_data"
    }
   ],
   "source": [
    "# Look at average outcomes by group over time\n",
    "outcomes_by_group_time = baseline_data.groupby(['t', 'group'])['Y'].mean().unstack()\n",
    "plt.figure(figsize=(10, 4))\n",
    "plt.plot(outcomes_by_group_time.index, outcomes_by_group_time[1], label='Group 1 (Treated)')\n",
    "plt.plot(outcomes_by_group_time.index, outcomes_by_group_time[2], label='Group 2 (Control)')\n",
    "# Find treatment start time\n",
    "t_star = int(baseline_data.loc[baseline_data['treated'] == 1, 't'].min())\n",
    "plt.axvline(x=t_star, color='red', linestyle='--', label=f'Treatment Start (t={t_star})')\n",
    "plt.grid(True)\n",
    "plt.xlabel('Time')\n",
    "plt.ylabel('Average Outcome')\n",
    "plt.title('Average Outcome by Group Over Time')\n",
    "plt.legend()\n",
    "plt.show()"
   ]
  },
  {
   "cell_type": "markdown",
   "metadata": {},
   "source": [
    "## Helper Function for Event Study Plots\n",
    "\n",
    "Let's create a helper function to generate event study plots from our results. We'll standardize to show periods -5 to 5 relative to treatment."
   ]
  },
  {
   "cell_type": "code",
   "execution_count": 27,
   "metadata": {},
   "outputs": [],
   "source": [
    "def plot_event_study(results, title=None, ylim=None, xlabel='Periods Relative to Treatment', ylabel='Coefficient', window=(-5, 5)):\n",
    "    \"\"\"Create event study plot from LPDiD results with a standardized window.\n",
    "    \n",
    "    Parameters:\n",
    "    -----------\n",
    "    results : LPDiDResults\n",
    "        Results object from LPDiD or LPDiDPois\n",
    "    title : str, optional\n",
    "        Plot title\n",
    "    ylim : tuple, optional\n",
    "        Y-axis limits (min, max)\n",
    "    xlabel : str\n",
    "        X-axis label\n",
    "    ylabel : str\n",
    "        Y-axis label\n",
    "    window : tuple\n",
    "        Analysis window for x-axis (min_horizon, max_horizon)\n",
    "    \"\"\"\n",
    "    event_df = results.event_study.copy()\n",
    "    \n",
    "    # Filter to the requested window\n",
    "    min_h, max_h = window\n",
    "    event_df = event_df[(event_df['horizon'] >= min_h) & (event_df['horizon'] <= max_h)]\n",
    "    \n",
    "    plt.figure(figsize=(12, 6))\n",
    "    \n",
    "    # Plot point estimates\n",
    "    plt.plot(event_df['horizon'], event_df['coefficient'], 'o-', color='blue', label='Coefficient')\n",
    "    \n",
    "    # Plot confidence intervals\n",
    "    plt.fill_between(\n",
    "        event_df['horizon'], \n",
    "        event_df['ci_low'], \n",
    "        event_df['ci_high'], \n",
    "        color='blue', \n",
    "        alpha=0.2, \n",
    "        label='95% CI'\n",
    "    )\n",
    "    \n",
    "    # Add reference line at y=0\n",
    "    plt.axhline(y=0, color='gray', linestyle='-', alpha=0.5)\n",
    "    \n",
    "    # Add vertical line at treatment time (horizon=0)\n",
    "    plt.axvline(x=0, color='red', linestyle='--')\n",
    "    \n",
    "    # Set plot labels\n",
    "    plt.xlabel(xlabel)\n",
    "    plt.ylabel(ylabel)\n",
    "    \n",
    "    # Set x-axis ticks to integers within our window\n",
    "    plt.xticks(range(min_h, max_h + 1))\n",
    "    \n",
    "    if title:\n",
    "        plt.title(title)\n",
    "    else:\n",
    "        plt.title(f'Event Study: {results.depvar}')\n",
    "    \n",
    "    if ylim:\n",
    "        plt.ylim(ylim)\n",
    "    \n",
    "    plt.grid(True)\n",
    "    plt.legend()\n",
    "    plt.tight_layout()\n",
    "    plt.show()\n",
    "    \n",
    "    return event_df"
   ]
  },
  {
   "cell_type": "markdown",
   "metadata": {},
   "source": [
    "## Applying LPDiD and LPDiDPois to the Baseline Dataset\n",
    "\n",
    "Let's apply the models to our baseline dataset:\n",
    "1. LPDiD with swap_pre_diff=False (standard for OLS)\n",
    "2. LPDiDPois with swap_pre_diff=True (better for Poisson to avoid negative values)"
   ]
  },
  {
   "cell_type": "code",
   "execution_count": null,
   "metadata": {},
   "outputs": [
    {
     "name": "stdout",
     "output_type": "stream",
     "text": [
      "\n",
      "============================================================\n",
      "LP-DiD Initialization (Linear Model)\n",
      "============================================================\n",
      "\n",
      "Model Information:\n",
      "  Model type: Linear regression (OLS)\n",
      "  Dependent variable: Y\n",
      "  Unit identifier: i\n",
      "  Time identifier: t\n",
      "  Treatment indicator: treated\n",
      "  Pre-treatment window: 10\n",
      "  Post-treatment window: 9\n",
      "\n",
      "Parallel Processing Configuration:\n",
      "  System: Darwin arm64\n",
      "  Available CPU cores: 16\n",
      "  Cores to be used: 8\n",
      "  Total regressions to run: 19\n",
      "  Multiprocessing start method: spawn\n",
      "Fixed effects: t\n",
      "Clustering variables: i\n",
      "============================================================\n",
      "\n",
      "Preparing data...\n",
      "Data preparation complete. Dataset has 100000 observations.\n",
      "\n",
      "============================================================\n",
      "Starting LP-DiD Estimation (Linear Model)\n",
      "============================================================\n",
      "\n",
      "Step 1: Identifying clean control samples...\n",
      "Clean control identification complete.\n",
      "\n",
      "Step 2: Generating long differences...\n",
      "Generating long differences for 19 horizons...\n",
      "Using optimized vectorized approach\n"
     ]
    }
   ],
   "source": [
    "# Apply LPDiD with swap_pre_diff=False (standard for OLS)\n",
    "lpdid_baseline = LPDiD(\n",
    "    data=baseline_data,\n",
    "    depvar='Y',\n",
    "    unit='i',\n",
    "    time='t',\n",
    "    treat='treated',\n",
    "    pre_window=10,  # Look at 10 pre-treatment periods\n",
    "    post_window=9,  # Look at 9 post-treatment periods\n",
    "    formula='~ | t',  # Only time fixed effects\n",
    "    cluster_formula='~ i',  # Cluster at individual level\n",
    "    swap_pre_diff=False,  # Standard setting for OLS\n",
    "    n_jobs=8,\n",
    "    lean = True,\n",
    "    copy_data=True\n",
    ")\n",
    "\n",
    "# Fit the model\n",
    "results_lpdid = lpdid_baseline.fit()\n",
    "\n",
    "print(results_lpdid)\n",
    "\n",
    "# # Plot results with standardized window of -5 to 5\n",
    "# plot_event_study(results_lpdid, title=\"LPDiD (OLS with swap_pre_diff=False)\", window=(-5, 5))"
   ]
  }
 ],
 "metadata": {
  "kernelspec": {
   "display_name": "data-science",
   "language": "python",
   "name": "python3"
  },
  "language_info": {
   "codemirror_mode": {
    "name": "ipython",
    "version": 3
   },
   "file_extension": ".py",
   "mimetype": "text/x-python",
   "name": "python",
   "nbconvert_exporter": "python",
   "pygments_lexer": "ipython3",
   "version": "3.10.16"
  }
 },
 "nbformat": 4,
 "nbformat_minor": 2
}
